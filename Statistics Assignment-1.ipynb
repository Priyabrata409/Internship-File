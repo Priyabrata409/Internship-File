{
 "cells": [
  {
   "cell_type": "markdown",
   "metadata": {},
   "source": [
    "Calculate the mean, median, mode and standard deviation for the problem\n",
    "statements 1 & 2."
   ]
  },
  {
   "cell_type": "markdown",
   "metadata": {},
   "source": [
    "- The marks awarded for an assignment set for a Year 8 class of 20 students were asfollows:\n",
    "\n",
    "6 7 5 7 7 8 7 6 9 7 4 10 6 8 8 9 5 6 4 8"
   ]
  },
  {
   "cell_type": "code",
   "execution_count": 1,
   "metadata": {},
   "outputs": [],
   "source": [
    "import numpy as np\n",
    "marks=[6,7,5,7,7,8,7,6,9,7,4,10,6,8,8,9,5,6,4,8]"
   ]
  },
  {
   "cell_type": "code",
   "execution_count": 2,
   "metadata": {},
   "outputs": [
    {
     "name": "stdout",
     "output_type": "stream",
     "text": [
      "The mean is :- 6.85\n",
      "------------------------------\n",
      "The standard deviation is :- 1.5898113095584647\n",
      "------------------------------\n",
      "The median is :-  7.0\n",
      "------------------------------\n"
     ]
    }
   ],
   "source": [
    "print(\"The mean is :-\",np.mean(marks))\n",
    "print(\"------------------------------\")\n",
    "print(\"The standard deviation is :-\",np.std(marks))\n",
    "print(\"------------------------------\")\n",
    "print(\"The median is :- \",np.median(marks))\n",
    "print(\"------------------------------\")\n"
   ]
  },
  {
   "cell_type": "markdown",
   "metadata": {},
   "source": [
    "- The number of calls from motorists per day for roadside service was recorded for a\n",
    "particular month:\n",
    "28, 122, 217, 130, 120, 86, 80, 90, 140, 120, 70, 40, 145, 113, 90, 68, 174, 194, 170,\n",
    "100, 75, 104, 97, 75,\n",
    "123, 100, 75, 104, 97, 75, 123, 100, 89, 120, 109\n"
   ]
  },
  {
   "cell_type": "code",
   "execution_count": 3,
   "metadata": {},
   "outputs": [],
   "source": [
    "no_of_calls=[28, 122, 217, 130, 120, 86, 80, 90, 140, 120, 70, 40, 145, 113, 90, 68, 174, 194, 170, 100, 75, 104, 97, 75, 123, 100, 75, 104, 97, 75, 123, 100, 89, 120, 109]"
   ]
  },
  {
   "cell_type": "code",
   "execution_count": 4,
   "metadata": {},
   "outputs": [
    {
     "name": "stdout",
     "output_type": "stream",
     "text": [
      "The mean is :- 107.51428571428572\n",
      "------------------------------\n",
      "The standard deviation is :- 38.77287080168403\n",
      "------------------------------\n",
      "The median is :-  100.0\n",
      "------------------------------\n"
     ]
    }
   ],
   "source": [
    "print(\"The mean is :-\",np.mean(no_of_calls))\n",
    "print(\"------------------------------\")\n",
    "print(\"The standard deviation is :-\",np.std(no_of_calls))\n",
    "print(\"------------------------------\")\n",
    "print(\"The median is :- \",np.median(no_of_calls))\n",
    "print(\"------------------------------\")"
   ]
  },
  {
   "cell_type": "markdown",
   "metadata": {},
   "source": [
    "- The number of times I go to the gym in weekdays, are given below along with its\n",
    "associated probability:\n",
    "\n",
    "x = 0, 1, 2, 3, 4, 5\n",
    "\n",
    "f(x) = 0.09, 0.15, 0.40, 0.25, 0.10, 0.01\n",
    "\n",
    "Calculate the mean no. of workouts in a week. Also evaluate the variance involved in\n",
    "it."
   ]
  },
  {
   "cell_type": "code",
   "execution_count": 5,
   "metadata": {},
   "outputs": [],
   "source": [
    "x=[0, 1, 2, 3, 4, 5]\n",
    "fx=[0.09, 0.15, 0.40, 0.25, 0.10, 0.01]"
   ]
  },
  {
   "cell_type": "code",
   "execution_count": 6,
   "metadata": {},
   "outputs": [],
   "source": [
    "x=np.array(x)\n",
    "fx=np.array(fx)"
   ]
  },
  {
   "cell_type": "code",
   "execution_count": 7,
   "metadata": {},
   "outputs": [],
   "source": [
    "avg=np.sum(np.product((x,fx),axis=0))"
   ]
  },
  {
   "cell_type": "code",
   "execution_count": 8,
   "metadata": {},
   "outputs": [
    {
     "name": "stdout",
     "output_type": "stream",
     "text": [
      "The mean is  2.15\n"
     ]
    }
   ],
   "source": [
    "print(\"The mean is \",np.sum(np.product((x,fx),axis=0)))"
   ]
  },
  {
   "cell_type": "code",
   "execution_count": 9,
   "metadata": {},
   "outputs": [],
   "source": [
    "sqd=np.square(x-avg)"
   ]
  },
  {
   "cell_type": "code",
   "execution_count": 10,
   "metadata": {},
   "outputs": [
    {
     "data": {
      "text/plain": [
       "array([4.6225, 1.3225, 0.0225, 0.7225, 3.4225, 8.1225])"
      ]
     },
     "execution_count": 10,
     "metadata": {},
     "output_type": "execute_result"
    }
   ],
   "source": [
    "sqd"
   ]
  },
  {
   "cell_type": "code",
   "execution_count": 11,
   "metadata": {},
   "outputs": [],
   "source": [
    "std=np.sum(np.product((fx,sqd),axis=0))"
   ]
  },
  {
   "cell_type": "code",
   "execution_count": 12,
   "metadata": {},
   "outputs": [
    {
     "name": "stdout",
     "output_type": "stream",
     "text": [
      "The standard deviation is  1.2275\n"
     ]
    }
   ],
   "source": [
    "print(\"The standard deviation is \",std)"
   ]
  },
  {
   "cell_type": "markdown",
   "metadata": {},
   "source": [
    "- Let the continuous random variable D denote the diameter of the hole drilled in an\n",
    "aluminum sheet. The target diameter to be achieved is 12.5mm. Random\n",
    "disturbances in the process often result in inaccuracy.\n",
    "Historical data shows that the distribution of D can be modelled by the PDF (𝑑) =\n",
    "20𝑒^(−20(𝑑−12.5)), 𝑑 ≥ 12.5. If a part with diameter > 12.6 mm needs to be scrapped,\n",
    "what is the proportion of those parts? What is the CDF when the diameter is of 11\n",
    "mm? What is your conclusion regarding the proportion of scraps?"
   ]
  },
  {
   "cell_type": "markdown",
   "metadata": {},
   "source": [
    "Here D is a Continous Random Variable \n",
    "\n",
    "and The probaility density function of D is f_d= 20𝑒^(−20(𝑑−12.5)), 𝑑 ≥ 12.5\n",
    "\n",
    "1. P(d>12.6)\n",
    "\n",
    "2. F(D=11)=p(D<11)=0\n"
   ]
  },
  {
   "cell_type": "code",
   "execution_count": 13,
   "metadata": {},
   "outputs": [
    {
     "name": "stdout",
     "output_type": "stream",
     "text": [
      "1.0000000000000024\n"
     ]
    }
   ],
   "source": [
    "## To check whether the PDF is valid or not\n",
    "from scipy import integrate\n",
    "val,error=integrate.quad(lambda x:20*np.exp(-20*(x-12.5)),12.5,np.inf)\n",
    "print(val)\n",
    "##It is valid as it is one"
   ]
  },
  {
   "cell_type": "code",
   "execution_count": 14,
   "metadata": {},
   "outputs": [
    {
     "name": "stdout",
     "output_type": "stream",
     "text": [
      "The proportion of part scrapped whose Diameter is greater than 12.6 is : 0.13533528323661398\n"
     ]
    }
   ],
   "source": [
    "val,error=integrate.quad(lambda x:20*np.exp(-20*(x-12.5)),12.6,np.inf)\n",
    "print(\"The proportion of part scrapped whose Diameter is greater than 12.6 is :\",val)"
   ]
  },
  {
   "cell_type": "markdown",
   "metadata": {},
   "source": [
    "From the above value we can conclude that only 13% hole's Diameter greater than 12.6 , in other words most of the Diameter lies between 12.5 to 12.6"
   ]
  },
  {
   "cell_type": "code",
   "execution_count": 15,
   "metadata": {},
   "outputs": [
    {
     "name": "stdout",
     "output_type": "stream",
     "text": [
      "the CDF when the diameter is of 11 mm is : 0\n"
     ]
    }
   ],
   "source": [
    "print(\"the CDF when the diameter is of 11 mm is :\",0)"
   ]
  },
  {
   "cell_type": "markdown",
   "metadata": {},
   "source": [
    "- A company manufactures LED bulbs with a faulty rate of 30%. If I randomly select 6\n",
    "chosen LEDs, what is the probability of having 2 faulty LEDs in my sample?\n",
    "Calculate the average value of this process. Also evaluate the standard deviation\n",
    "associated with it."
   ]
  },
  {
   "cell_type": "markdown",
   "metadata": {},
   "source": [
    "Here this a binomial distribution Problem\n",
    "\n",
    "The probabilty of success(i.e The probability of getting a faulty one) is p=0.3\n",
    "\n",
    "no. of trials = 6\n",
    "\n",
    "Here the binomial random variable X represents no of defective ball in the random sample\n",
    "\n",
    "Here we have to calculate P(X=2)"
   ]
  },
  {
   "cell_type": "code",
   "execution_count": 16,
   "metadata": {},
   "outputs": [],
   "source": [
    "from scipy.stats import binom"
   ]
  },
  {
   "cell_type": "code",
   "execution_count": 17,
   "metadata": {},
   "outputs": [],
   "source": [
    "p_x=binom.pmf(3,6,0.3)"
   ]
  },
  {
   "cell_type": "code",
   "execution_count": 18,
   "metadata": {},
   "outputs": [
    {
     "data": {
      "text/plain": [
       "0.18521999999999994"
      ]
     },
     "execution_count": 18,
     "metadata": {},
     "output_type": "execute_result"
    }
   ],
   "source": [
    "p_x"
   ]
  },
  {
   "cell_type": "code",
   "execution_count": 19,
   "metadata": {},
   "outputs": [],
   "source": [
    "mean,var=binom.stats(6,0.3)"
   ]
  },
  {
   "cell_type": "code",
   "execution_count": 20,
   "metadata": {},
   "outputs": [
    {
     "name": "stdout",
     "output_type": "stream",
     "text": [
      "The mean of the distribution is : 1.7999999999999998\n"
     ]
    }
   ],
   "source": [
    "print(\"The mean of the distribution is :\",mean)"
   ]
  },
  {
   "cell_type": "code",
   "execution_count": 21,
   "metadata": {},
   "outputs": [],
   "source": [
    "std=np.sqrt(var)"
   ]
  },
  {
   "cell_type": "code",
   "execution_count": 22,
   "metadata": {},
   "outputs": [
    {
     "name": "stdout",
     "output_type": "stream",
     "text": [
      "The Standard deviation of the distribution is : 1.1224972160321822\n"
     ]
    }
   ],
   "source": [
    "print(\"The Standard deviation of the distribution is :\",std)"
   ]
  },
  {
   "cell_type": "markdown",
   "metadata": {},
   "source": [
    "- Problem Statement 6:\n",
    "\n",
    "Gaurav and Barakha are both preparing for entrance exams. Gaurav attempts to\n",
    "solve 8 questions per day with a correction rate of 75%, while Barakha averages\n",
    "around 12 questions per day with a correction rate of 45%. What is the probability\n",
    "that each of them will solve 5 questions correctly? What happens in cases of 4 and 6\n",
    "correct solutions? What do you infer from it? What are the two main governing\n",
    "factors affecting their ability to solve questions correctly? Give a pictorial\n",
    "representation of the same to validate your answer."
   ]
  },
  {
   "cell_type": "markdown",
   "metadata": {},
   "source": [
    "Here This is an Possion distribution Problem here\n",
    "\n",
    "For Gaurav m_u=lambda*t\n",
    "\n",
    "where lambda equal to correction rate=75%=0.75\n",
    "\n",
    "t is no of outcomes occuring per day=8\n",
    "\n",
    "Hence m_u=8*0.75=6\n",
    "\n",
    "No for Barkha lambda=45%=0.45\n",
    "\n",
    "t=12\n",
    "\n",
    "m_u=12*0.45=5.4\n",
    "\n",
    "- Now we need to calculate What is the probability taht both of them will solve 5 question correctly=\n",
    "\n",
    "Barkha will solve 5 question correctly and Gaurav will solve 5 question correctly=P_g(X=5)*P_b(X+5)\n",
    "\n",
    "P_g(X=5)=\n",
    "\n",
    "P_b(X=5)="
   ]
  },
  {
   "cell_type": "code",
   "execution_count": 23,
   "metadata": {},
   "outputs": [],
   "source": [
    "from scipy.stats import poisson"
   ]
  },
  {
   "cell_type": "code",
   "execution_count": 24,
   "metadata": {},
   "outputs": [],
   "source": [
    "P_g=poisson.pmf(5,6)"
   ]
  },
  {
   "cell_type": "code",
   "execution_count": 25,
   "metadata": {},
   "outputs": [],
   "source": [
    "P_b=poisson.pmf(5,5.4)"
   ]
  },
  {
   "cell_type": "code",
   "execution_count": 26,
   "metadata": {},
   "outputs": [
    {
     "name": "stdout",
     "output_type": "stream",
     "text": [
      "The probability that each of them will solve 5 questions correctly is : 0.02775910535877549\n"
     ]
    }
   ],
   "source": [
    "print(\"The probability that each of them will solve 5 questions correctly is :\",P_g*P_b)"
   ]
  },
  {
   "cell_type": "code",
   "execution_count": 27,
   "metadata": {},
   "outputs": [],
   "source": [
    "P_g=poisson.pmf(4,6)"
   ]
  },
  {
   "cell_type": "code",
   "execution_count": 28,
   "metadata": {},
   "outputs": [],
   "source": [
    "P_b=poisson.pmf(6,5.4)"
   ]
  },
  {
   "cell_type": "code",
   "execution_count": 29,
   "metadata": {},
   "outputs": [
    {
     "name": "stdout",
     "output_type": "stream",
     "text": [
      "The probability that gaurav solve 4 and Barkha solve 6 is : 0.020819329019081633\n"
     ]
    }
   ],
   "source": [
    "print(\"The probability that gaurav solve 4 and Barkha solve 6 is :\",P_g*P_b)"
   ]
  },
  {
   "cell_type": "code",
   "execution_count": 30,
   "metadata": {},
   "outputs": [
    {
     "name": "stdout",
     "output_type": "stream",
     "text": [
      "Hence probability of solving 4 and 6 correct answers by both is less than both 5 it's because correction rate in Barkha is quite less tahn in case of Gaurav\n"
     ]
    }
   ],
   "source": [
    "print(\"Hence probability of solving 4 and 6 correct answers by both is less than both 5 it's because correction rate in Barkha is quite less tahn in case of Gaurav\")"
   ]
  },
  {
   "cell_type": "code",
   "execution_count": 31,
   "metadata": {},
   "outputs": [
    {
     "name": "stdout",
     "output_type": "stream",
     "text": [
      "The factor affecting the ability to solve the question correctly is correction rate\n"
     ]
    }
   ],
   "source": [
    "print(\"The factor affecting the ability to solve the question correctly is correction rate\")"
   ]
  },
  {
   "cell_type": "code",
   "execution_count": 32,
   "metadata": {},
   "outputs": [],
   "source": [
    "val_1=[]\n",
    "for i in range(1,9):\n",
    "   P_g=poisson.pmf(i,6)\n",
    "   val_1.append(P_g)"
   ]
  },
  {
   "cell_type": "code",
   "execution_count": 33,
   "metadata": {},
   "outputs": [],
   "source": [
    "import matplotlib.pyplot as plt"
   ]
  },
  {
   "cell_type": "code",
   "execution_count": 34,
   "metadata": {},
   "outputs": [
    {
     "data": {
      "text/plain": [
       "Text(0, 0.5, 'no of correct answer')"
      ]
     },
     "execution_count": 34,
     "metadata": {},
     "output_type": "execute_result"
    },
    {
     "data": {
      "image/png": "[encoded data removed]",
      "text/plain": [
       "<Figure size 432x288 with 1 Axes>"
      ]
     },
     "metadata": {
      "needs_background": "light"
     },
     "output_type": "display_data"
    }
   ],
   "source": [
    "plt.bar(x=range(1,9),height=val_1)\n",
    "plt.title(\"probability distribution of no of correct answer of Gaurav\")\n",
    "plt.xlabel(\"Probability\")\n",
    "plt.ylabel(\"no of correct answer\")"
   ]
  },
  {
   "cell_type": "code",
   "execution_count": 35,
   "metadata": {},
   "outputs": [],
   "source": [
    "val_2=[]\n",
    "for i in range(1,13):\n",
    "   P_b=poisson.pmf(i,5.4)\n",
    "   val_2.append(P_b)"
   ]
  },
  {
   "cell_type": "code",
   "execution_count": 36,
   "metadata": {},
   "outputs": [
    {
     "data": {
      "text/plain": [
       "Text(0, 0.5, 'no of correct answer')"
      ]
     },
     "execution_count": 36,
     "metadata": {},
     "output_type": "execute_result"
    },
    {
     "data": {
      "image/png": "[encoded data removed]",
      "text/plain": [
       "<Figure size 432x288 with 1 Axes>"
      ]
     },
     "metadata": {
      "needs_background": "light"
     },
     "output_type": "display_data"
    }
   ],
   "source": [
    "plt.bar(x=range(1,13),height=val_2)\n",
    "plt.title(\"probability distribution of no of correct answer of Barkha\")\n",
    "plt.xlabel(\"Probability\")\n",
    "plt.ylabel(\"no of correct answer\")"
   ]
  },
  {
   "cell_type": "markdown",
   "metadata": {},
   "source": [
    "- Customers arrive at a rate of 72 per hour to my shop. What is the probability of 𝑘\n",
    "customers arriving in 4 minutes? a) 5 customers, b) not more than 3 customers, c)\n",
    "more than 3 customers. Give a pictorial representation of the same to validate your\n",
    "answer"
   ]
  },
  {
   "cell_type": "raw",
   "metadata": {},
   "source": [
    "Here m_u  is equal to lambda*t=(72/60)*4=4.8\n",
    "\n",
    "The probability that 5 customers arive in 4 minutes is P(X=5)\n",
    "\n",
    "The probability that not more than 3 customers arive in 4 minutes is P(X<4)\n",
    "\n",
    "The probability that more than 3 customers arive in 4 minutes is P(X>3)\n"
   ]
  },
  {
   "cell_type": "code",
   "execution_count": 37,
   "metadata": {},
   "outputs": [
    {
     "name": "stdout",
     "output_type": "stream",
     "text": [
      "The probability that 5 customers arive in 4 minutes : 0.17474768364388296\n"
     ]
    }
   ],
   "source": [
    "p=poisson.pmf(5,4.8)\n",
    "print(\"The probability that 5 customers arive in 4 minutes :\",p)"
   ]
  },
  {
   "cell_type": "code",
   "execution_count": 38,
   "metadata": {},
   "outputs": [
    {
     "name": "stdout",
     "output_type": "stream",
     "text": [
      "The probability that not more than 3 customers arive in 4 minutes : 0.2942299164965642\n"
     ]
    }
   ],
   "source": [
    "p=poisson.cdf(3,4.8)\n",
    "print(\"The probability that not more than 3 customers arive in 4 minutes :\",p)"
   ]
  },
  {
   "cell_type": "code",
   "execution_count": 39,
   "metadata": {},
   "outputs": [
    {
     "name": "stdout",
     "output_type": "stream",
     "text": [
      "The probability that more than 3 customers arive in 4 minutes is : 0.7057700835034357\n"
     ]
    }
   ],
   "source": [
    "print(\"The probability that more than 3 customers arive in 4 minutes is :\",1-p)"
   ]
  },
  {
   "cell_type": "code",
   "execution_count": 40,
   "metadata": {},
   "outputs": [
    {
     "data": {
      "text/plain": [
       "Text(0, 0.5, 'no of customer')"
      ]
     },
     "execution_count": 40,
     "metadata": {},
     "output_type": "execute_result"
    },
    {
     "data": {
      "image/png": "[encoded data removed]",
      "text/plain": [
       "<Figure size 720x432 with 1 Axes>"
      ]
     },
     "metadata": {
      "needs_background": "light"
     },
     "output_type": "display_data"
    }
   ],
   "source": [
    "\n",
    "val_2=[]\n",
    "for i in range(1,20):\n",
    "   P_b=poisson.pmf(i,4.8)\n",
    "   val_2.append(P_b)\n",
    "plt.figure(figsize=(10,6))\n",
    "plt.bar(x=range(1,20),height=val_2)\n",
    "plt.title(\"probability distribution of no of Customer arrived\")\n",
    "plt.xlabel(\"Probability\")\n",
    "plt.ylabel(\"no of customer\")    "
   ]
  },
  {
   "cell_type": "markdown",
   "metadata": {},
   "source": [
    "- I work as a data analyst in Aeon Learning Pvt. Ltd. After analyzing data, I make\n",
    "reports, where I have the efficiency of entering 77 words per minute with 6 errors per\n",
    "hour. What is the probability that I will commit 2 errors in a 455-word financial report?\n",
    "What happens when the no. of words increases/decreases (in case of 1000 words,\n",
    "255 words)?\n",
    "How is the 𝜆 affected?\n",
    "How does it influence the PMF?\n",
    "Give a pictorial representation of the same to validate your answer."
   ]
  },
  {
   "cell_type": "markdown",
   "metadata": {},
   "source": [
    "% percentage of error per word=6/(77*60)=0.0012987"
   ]
  },
  {
   "cell_type": "markdown",
   "metadata": {},
   "source": [
    "probability of I will commit in 2 errors in  a 455-word finace report\n",
    "m_u=0.0012987*455=0.591"
   ]
  },
  {
   "cell_type": "code",
   "execution_count": 41,
   "metadata": {},
   "outputs": [
    {
     "name": "stdout",
     "output_type": "stream",
     "text": [
      "probability of I will commit in 2 errors in  a 455-word finace report : 0.09671123456337344\n"
     ]
    }
   ],
   "source": [
    "p_2=poisson.pmf(2,0.591)\n",
    "print(\"probability of I will commit in 2 errors in  a 455-word finace report :\",p_2)"
   ]
  },
  {
   "cell_type": "markdown",
   "metadata": {},
   "source": [
    "if no of words= 255\n",
    "m_u=0.0012987*255=0.331"
   ]
  },
  {
   "cell_type": "code",
   "execution_count": 42,
   "metadata": {},
   "outputs": [
    {
     "name": "stdout",
     "output_type": "stream",
     "text": [
      "probability of I will commit in 2 errors in  a 255-word finace report : 0.039343638262626955\n"
     ]
    }
   ],
   "source": [
    "p_2=poisson.pmf(2,0.331)\n",
    "print(\"probability of I will commit in 2 errors in  a 255-word finace report :\",p_2)"
   ]
  },
  {
   "cell_type": "markdown",
   "metadata": {},
   "source": [
    "if no of words= 1000\n",
    "m_u=0.0012987*1000=1.2987"
   ]
  },
  {
   "cell_type": "code",
   "execution_count": 43,
   "metadata": {},
   "outputs": [
    {
     "name": "stdout",
     "output_type": "stream",
     "text": [
      "probability of I will commit in 2 errors in  a 255-word finace report : 0.2301279886842552\n"
     ]
    }
   ],
   "source": [
    "p_2=poisson.pmf(2,1.2987)\n",
    "print(\"probability of I will commit in 2 errors in  a 255-word finace report :\",p_2)"
   ]
  },
  {
   "cell_type": "markdown",
   "metadata": {},
   "source": [
    "9. Same As Number 4"
   ]
  },
  {
   "cell_type": "markdown",
   "metadata": {},
   "source": [
    "10. Please compute the following:\n",
    "\n",
    "a) P(Z > 1.26), . P(Z < −0.86), P(Z > −1.37), P(−1.25 < Z < 0.37), . P(Z ≤ −4.6)\n",
    "\n",
    "b) Find the value 𝑧 such that 𝑃(𝑍 > 𝑧) = 0.05\n",
    "\n",
    "c) Find the value of 𝑧 such that 𝑃(−𝑧 < 𝑍 < 𝑧) = 0.99"
   ]
  },
  {
   "cell_type": "code",
   "execution_count": 44,
   "metadata": {},
   "outputs": [],
   "source": [
    "from scipy.stats import norm"
   ]
  },
  {
   "cell_type": "code",
   "execution_count": 45,
   "metadata": {},
   "outputs": [
    {
     "data": {
      "text/plain": [
       "0.10383468112130045"
      ]
     },
     "execution_count": 45,
     "metadata": {},
     "output_type": "execute_result"
    }
   ],
   "source": [
    "#a) P(Z > 1.26)\n",
    "1-norm(0,1).cdf(1.26)"
   ]
  },
  {
   "cell_type": "code",
   "execution_count": 46,
   "metadata": {},
   "outputs": [
    {
     "data": {
      "text/plain": [
       "0.1948945212518084"
      ]
     },
     "execution_count": 46,
     "metadata": {},
     "output_type": "execute_result"
    }
   ],
   "source": [
    "# P(Z < −0.86)\n",
    "norm(0,1).cdf(-0.86)"
   ]
  },
  {
   "cell_type": "code",
   "execution_count": 47,
   "metadata": {},
   "outputs": [
    {
     "data": {
      "text/plain": [
       "0.914656549178033"
      ]
     },
     "execution_count": 47,
     "metadata": {},
     "output_type": "execute_result"
    }
   ],
   "source": [
    "#P(Z > −1.37)\n",
    "1-norm(0,1).cdf(-1.37)"
   ]
  },
  {
   "cell_type": "code",
   "execution_count": 48,
   "metadata": {},
   "outputs": [
    {
     "data": {
      "text/plain": [
       "0.5386589811336914"
      ]
     },
     "execution_count": 48,
     "metadata": {},
     "output_type": "execute_result"
    }
   ],
   "source": [
    "#P(−1.25 < Z < 0.37)\n",
    "(norm(0,1).cdf(0.37))-(norm(0,1).cdf(-1.25))"
   ]
  },
  {
   "cell_type": "code",
   "execution_count": 49,
   "metadata": {},
   "outputs": [
    {
     "data": {
      "text/plain": [
       "2.1124547025028537e-06"
      ]
     },
     "execution_count": 49,
     "metadata": {},
     "output_type": "execute_result"
    }
   ],
   "source": [
    "# P(Z ≤ −4.6)\n",
    "norm(0,1).cdf(-4.6)"
   ]
  },
  {
   "cell_type": "code",
   "execution_count": 51,
   "metadata": {},
   "outputs": [
    {
     "data": {
      "text/plain": [
       "0.05008810118817164"
      ]
     },
     "execution_count": 51,
     "metadata": {},
     "output_type": "execute_result"
    }
   ],
   "source": [
    "#𝑃(𝑍 > 𝑧) = 0.05\n",
    "1-norm(0,1).cdf(1.644)#=0.05008810118817164\n",
    "#hence z=1.64\n"
   ]
  },
  {
   "cell_type": "code",
   "execution_count": 52,
   "metadata": {},
   "outputs": [
    {
     "data": {
      "text/plain": [
       "0.9973002039367398"
      ]
     },
     "execution_count": 52,
     "metadata": {},
     "output_type": "execute_result"
    }
   ],
   "source": [
    "# 𝑃(−𝑧 < 𝑍 < 𝑧) = 0.99\n",
    "(norm(0,1).cdf(3))-(norm(0,1).cdf(-3))# =0.9973002039367398\n",
    "# hence z=3"
   ]
  },
  {
   "cell_type": "markdown",
   "metadata": {},
   "source": [
    "11. The current flow in a copper wire follow a normal distribution with a mean of 10 𝑚A\n",
    "and a variance of 4 (𝑚𝐴)2.\n",
    "What is the probability that a current measurement will exceed 13 𝑚𝐴? What is the\n",
    "probability that a current measurement is between 9 and 11mA? Determine the\n",
    "current measurement which has a probability of 0.98."
   ]
  },
  {
   "cell_type": "markdown",
   "metadata": {},
   "source": [
    "given mean=10mA\n",
    "variance=4(mA)^2\n",
    "std=2mA\n",
    "P(X>13)=P(Z>1.5)\n",
    "P(9<X<11)=P(-0.5<Z<0.5)"
   ]
  },
  {
   "cell_type": "code",
   "execution_count": 53,
   "metadata": {},
   "outputs": [
    {
     "name": "stdout",
     "output_type": "stream",
     "text": [
      "Hence the probability that a current measurement will exceed 13 𝑚𝐴 is : 0.06680720126885809\n"
     ]
    }
   ],
   "source": [
    "p=1-norm(0,1).cdf(1.5)\n",
    "print(\"Hence the probability that a current measurement will exceed 13 𝑚𝐴 is :\",p)"
   ]
  },
  {
   "cell_type": "code",
   "execution_count": 54,
   "metadata": {},
   "outputs": [
    {
     "name": "stdout",
     "output_type": "stream",
     "text": [
      "Hence  theprobability that a current measurement is between 9 and 11mA is : 0.38292492254802624\n"
     ]
    }
   ],
   "source": [
    "p=(norm(0,1).cdf(0.5))-(norm(0,1).cdf(-0.5))\n",
    "print(\"Hence  theprobability that a current measurement is between 9 and 11mA is :\",p)"
   ]
  },
  {
   "cell_type": "markdown",
   "metadata": {},
   "source": [
    "12. The shaft in a piston has its diameter normally distributed with a mean of 0.2508 inch\n",
    "and a standard deviation of 0.0005 inch. The specifications of the shaft are 0.2500 ∓\n",
    "0.0015 inch. What proportion of shafts are in sync with the specifications? If the\n",
    "process is centered so that the mean is equal to the target value of 0.2500, what\n",
    "proportion of shafts conform to the new specifications? What is your conclusion from\n",
    "this experiment?\n"
   ]
  },
  {
   "cell_type": "markdown",
   "metadata": {},
   "source": [
    "given mean=0.2508,\n",
    "std=0.0005\n",
    "P(0.2485<X<0.2515)=P(-4.6<Z<1.4)"
   ]
  },
  {
   "cell_type": "code",
   "execution_count": 55,
   "metadata": {},
   "outputs": [
    {
     "name": "stdout",
     "output_type": "stream",
     "text": [
      "The portion of shafts are in sync with the specifications is : 0.9192412283115264\n"
     ]
    }
   ],
   "source": [
    "p=(norm(0,1).cdf(1.4))-(norm(0,1).cdf(-4.6))\n",
    "print(\"The portion of shafts are in sync with the specifications is :\",p)"
   ]
  },
  {
   "cell_type": "markdown",
   "metadata": {},
   "source": [
    "given new mean=0.2500\n",
    "std=0.0005\n",
    "P(0.2485<X<0.2515)=P(-3<Z<3)"
   ]
  },
  {
   "cell_type": "code",
   "execution_count": 56,
   "metadata": {},
   "outputs": [
    {
     "name": "stdout",
     "output_type": "stream",
     "text": [
      "The portion of shafts are in sync with the specifications is : 0.9973002039367398\n"
     ]
    }
   ],
   "source": [
    "p=(norm(0,1).cdf(3))-(norm(0,1).cdf(-3))\n",
    "print(\"The portion of shafts are in sync with the specifications is :\",p)"
   ]
  },
  {
   "cell_type": "code",
   "execution_count": 57,
   "metadata": {},
   "outputs": [
    {
     "name": "stdout",
     "output_type": "stream",
     "text": [
      "if mean is altered to the specification mean then the probability of occurence increase \n"
     ]
    }
   ],
   "source": [
    "# Conclusion\n",
    "print(\"if mean is altered to the specification mean then the probability of occurence increase \")"
   ]
  }
 ],
 "metadata": {
  "kernelspec": {
   "display_name": "Python 3",
   "language": "python",
   "name": "python3"
  },
  "language_info": {
   "codemirror_mode": {
    "name": "ipython",
    "version": 3
   },
   "file_extension": ".py",
   "mimetype": "text/x-python",
   "name": "python",
   "nbconvert_exporter": "python",
   "pygments_lexer": "ipython3",
   "version": "3.7.7"
  }
 },
 "nbformat": 4,
 "nbformat_minor": 4
}
